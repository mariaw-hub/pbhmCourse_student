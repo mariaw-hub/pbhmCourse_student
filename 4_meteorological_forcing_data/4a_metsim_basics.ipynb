{
 "cells": [
  {
   "cell_type": "markdown",
   "metadata": {},
   "source": [
    "# Getting started with MetSim\n",
    "\n",
    "Before jumping into a bunch of the options that MetSim allows you to change \n",
    "we have to get a baseline comfort with how to set up MetSim and what kinds of \n",
    "data go into MetSim and how to set it up. To do so we will use the Reynolds \n",
    "Mountain East data that you've used previously. This data already has an hourly \n",
    "timestep with all of the forcing variables, which is sufficient to run SUMMA, \n",
    "so we're going to first aggregate just temperatures and precipitation to daily \n",
    "values and then use MetSim to estimate the required inputs for SUMMA and \n",
    "disaggregate back down to hourly timesteps. This gives us a handle on how the\n",
    "estimation routines compare to the originally observed forcings, and what kins\n",
    "of impacts they have on the simulation of the hydrologic cycle. We will \n",
    "specifically explore how these differences affect the snowpack in this notebook.\n",
    "\n",
    "With that, let's get started! Below we've got some standard imports, notably we've\n",
    "added the `from metsim import MetSim` line, which is the main object that is used\n",
    "to run MetSim from a notebook environment. "
   ]
  },
  {
   "cell_type": "code",
   "execution_count": null,
   "metadata": {},
   "outputs": [],
   "source": [
    "# modules \n",
    "import os\n",
    "import pysumma as ps\n",
    "import xarray as xr\n",
    "import pandas as pd\n",
    "import numpy as np\n",
    "import matplotlib.pyplot as plt\n",
    "from metsim import MetSim"
   ]
  },
  {
   "cell_type": "markdown",
   "metadata": {},
   "source": [
    "# Let's start by building input data for MetSim\n",
    "\n",
    "As explained in the lecture, MetSim can take a minimal set of data \n",
    "at a daily timestep to estimate various quantities and temporally disaggregate them\n",
    "down to a finer timestep. Since our initial data for Reynolds Mountain East was at the\n",
    "hourly timestep, we will just reproduce that here. We start out by producing this input\n",
    "data for MetSim from the hourly Reynolds data. This step is effectively MetSim in reverse.\n",
    "\n",
    "We will also need to add a couple of parameters/attributes to the daily data. This data is\n",
    "contained inthe attributes file for SUMMA so we will pull that in as well.\n"
   ]
  },
  {
   "cell_type": "code",
   "execution_count": null,
   "metadata": {},
   "outputs": [],
   "source": [
    "hourly_data = xr.open_dataset('./data/reynolds/forcing_sheltered.nc')\n",
    "attributes = xr.open_dataset('./settings/reynolds/summa_zLocalAttributes.nc')"
   ]
  },
  {
   "cell_type": "markdown",
   "metadata": {},
   "source": [
    "With the data pulled in we will compute the daily minimum and maximum \n",
    "temperatures (in Celcius, as MetSim requires) as well as the daily \n",
    "average windspeed and daily total precipitation. To do this we can\n",
    "use the `xarray.DataArray.resample` methods. For the precipitation,\n",
    "we also have to account for the fact that SUMMA requires mm per second,\n",
    "while MetSim wants mm total over the timestep, so we multiply by the \n",
    "length of the `data_step` in seconds.\n",
    "\n",
    "With those we have the complete forcings, however we must still provide\n",
    "the state file for MetSim, which is simply additional forcings for the \n",
    "preceeding 90 days from the simulation period. In this case we don't have\n",
    "that data so we make a subjective choice to fill in the data. We want to\n",
    "get data for 1998/07/03 up to 1998/10/01 - so I have chosen to \n",
    "simply take the data from the time period 1999/07/03 to 1999/10/01 and \n",
    "copy that back. You might do many things to get this data, such as use\n",
    "climatologic averages, or just shorten your simulation period if reasonable.\n",
    "\n",
    "Then, we compile everything, including latitude, longitude, elevation and a `mask`\n",
    "variable into the dataset. The `mask` variable simply marks which cells to run.\n",
    "This is useful for cutting out oceans and lakes or other features in spatially\n",
    "distributed runs, but we will simply set it to `1`, which marks the cell for\n",
    "running. Finally, we save out the new dataset, which will be used in this\n",
    "notebook as well as the subsequent notebooks."
   ]
  },
  {
   "cell_type": "code",
   "execution_count": null,
   "metadata": {},
   "outputs": [],
   "source": [
    "# Resample to daily\n",
    "tmin = hourly_data['airtemp'].resample({'time': 'D'}).min() - 273.16\n",
    "tmin.name = 'Tmin'\n",
    "tmax = hourly_data['airtemp'].resample({'time': 'D'}).max() - 273.16\n",
    "tmax.name = 'Tmax'\n",
    "wind = hourly_data['windspd'].resample({'time': 'D'}).mean()\n",
    "wind.name = 'wind'\n",
    "precip = hourly_data['data_step'].dt.seconds * hourly_data['pptrate'].resample({'time': 'D'}).sum()\n",
    "precip.name = 'precip'\n",
    "\n",
    "# Put it all into a single dataset\n",
    "daily_data = xr.Dataset()\n",
    "daily_data['Tmin'] = tmin\n",
    "daily_data['Tmax'] = tmax\n",
    "daily_data['prcp'] = precip\n",
    "daily_data['wind'] = wind\n",
    "\n",
    "# Generate state data\n",
    "state = daily_data.isel(time=slice(365-90, 365))\n",
    "state = state.assign_coords({'time': state['time'] - pd.Timedelta('365D')})\n",
    "daily_data = xr.concat([state, daily_data], dim='time')\n",
    "\n",
    "# Add some attributes/parameters\n",
    "daily_data['lat'] = attributes['latitude']\n",
    "daily_data['lon'] = attributes['longitude']\n",
    "daily_data['elev'] = attributes['elevation']\n",
    "daily_data['mask'] = (attributes['elevation'] > 0).astype(int)\n",
    "\n",
    "daily_data.to_netcdf('./data/reynolds/forcing_daily.nc')"
   ]
  },
  {
   "cell_type": "markdown",
   "metadata": {},
   "source": [
    "# Getting a configuration set up\n",
    "\n",
    "The MetSim configuration can be verbose, but is quite flexible. We will \n",
    "only cover the basic usage/explanations here, but you can browse [the docs](https://metsim.readthedocs.io/en/develop/)\n",
    "for further information about how to set up various configurations.\n",
    "\n",
    "The gist here is that we will set the input file paths (for the daily data we just generated),\n",
    "then set some output paths. We then set up the run times and time step, as well as setting the\n",
    "`period_ending` flag to `True`. This ensures that the timestamps line up with the conventions\n",
    "that are used in SUMMA, reducing the need to postprocess the MetSim output for use in SUMMA.\n",
    "\n",
    "Following the top level configuration is a series of nested dictionaries of special purpose.\n",
    "The `chunks` section tells MetSim how to break up spatially distributed runs in parallel.\n",
    "Because this is a point simulation we can simply set it to 1. The `forcing_vars`, `state_vars`,\n",
    "and `domain_vars` provide the ability to map variable names in your data to the names that\n",
    "MetSim expects. The format here is `yourVarName: metsimVarName`. Finally, we set up the output\n",
    "data in the `out_vars` section. The keys in this section are the output variable names as MetSim\n",
    "calls them. Then each sub-dictionary allows you to rename it in the output file via the `out_name`\n",
    "specification, as well as allows you to do basic unit conversions which, again, simply reduces\n",
    "the amount of postprocessing we will need to do to use MetSim output to run SUMMA."
   ]
  },
  {
   "cell_type": "code",
   "execution_count": null,
   "metadata": {},
   "outputs": [],
   "source": [
    "config = {\n",
    "    # Input files\n",
    "    \"domain\": './data/reynolds/forcing_daily.nc',\n",
    "    \"forcing\": './data/reynolds/forcing_daily.nc',\n",
    "    \"state\": './data/reynolds/forcing_daily.nc',\n",
    "    \n",
    "    # Output location/naming\n",
    "    \"out_dir\": './data/reynolds/',\n",
    "    \"out_prefix\": 'forcing_metsim_uniform',\n",
    "    \n",
    "    # Run configuration/parameters\n",
    "    \"start\": \"1998/10/01\",\n",
    "    \"stop\": \"2008/10/01\",\n",
    "    \"time_step\": 60,\n",
    "    \"period_ending\": True,\n",
    "    \n",
    "    # Set up spatial chunking\n",
    "    \"chunks\": {'hru': 1},\n",
    "\n",
    "    # Set up input variable mapping\n",
    "    \"forcing_vars\": {\n",
    "        \"Tmin\": \"t_min\",\n",
    "        \"Tmax\": \"t_max\",\n",
    "        \"prcp\": \"prec\",\n",
    "        \"wind\": \"wind\",\n",
    "    },\n",
    "    \"state_vars\": {\n",
    "        \"Tmin\": \"t_min\",\n",
    "        \"Tmax\": \"t_max\",\n",
    "        \"prcp\": \"prec\",\n",
    "        \"wind\": \"wind\",\n",
    "    },\n",
    "    \"domain_vars\": {\n",
    "        \"lon\": \"lon\",\n",
    "        \"lat\": \"lat\",\n",
    "        \"elev\": \"elev\",\n",
    "        \"mask\": \"mask\",\n",
    "    },\n",
    "    \n",
    "    # Set up output specifications\n",
    "    \"out_vars\": {\n",
    "        'temp'        : {'out_name': 'airtemp', 'units': 'K'},\n",
    "        'prec'        : {'out_name': 'pptrate', 'units': 'mm s-1'},\n",
    "        'air_pressure': {'out_name': 'airpres', 'units': 'Pa'},\n",
    "        'shortwave'   : {'out_name': 'SWRadAtm'},\n",
    "        'longwave'    : {'out_name': 'LWRadAtm'},\n",
    "        'spec_humid'  : {'out_name': 'spechum' },\n",
    "        'wind'        : {'out_name': 'windspd' }\n",
    "    },\n",
    "}"
   ]
  },
  {
   "cell_type": "markdown",
   "metadata": {},
   "source": [
    "# Running MetSim and preparing for running SUMMA\n",
    "\n",
    "With a working configuration set up it's pretty simple to run MetSim. \n",
    "We begin by instantiating the `MetSim` object with the configuration.\n",
    "Then, it's as easy as calling the `.run` method to kick things off.\n",
    "Once the simulation is finished the output can be opened with the\n",
    "`.open_output` method. We will open up the output, add in a couple of\n",
    "pieces of metadata for the SUMMA simulation and write out the new data."
   ]
  },
  {
   "cell_type": "code",
   "execution_count": null,
   "metadata": {},
   "outputs": [],
   "source": [
    "ms = MetSim(config)"
   ]
  },
  {
   "cell_type": "code",
   "execution_count": null,
   "metadata": {},
   "outputs": [],
   "source": [
    "ms.run()"
   ]
  },
  {
   "cell_type": "code",
   "execution_count": null,
   "metadata": {},
   "outputs": [],
   "source": [
    "with ms.open_output() as ds:\n",
    "    ds['data_step'] = hourly_data['data_step']\n",
    "    ds['hruId'] = hourly_data['hruId']\n",
    "    out_ds = ds.load()\n",
    "out_prefix = config[\"out_prefix\"]\n",
    "out_suffix = ms.get_nc_output_suffix(ds[\"time\"].to_series())\n",
    "out_filename = f'{out_prefix}_{out_suffix}.nc'\n",
    "out_dirname = os.path.abspath('./data/reynolds')\n",
    "out_ds.to_netcdf(f'{out_dirname}/{out_filename}')"
   ]
  },
  {
   "cell_type": "markdown",
   "metadata": {},
   "source": [
    "# Running SUMMA and comparing results\n",
    "\n",
    "To compare how the MetSim forcing data stacks up to the observed data we will run SUMMA simulations using both datasets.\n",
    "To run the simulation with the MetSim generated data we just have to replace the path to the data in the forcing file list.\n"
   ]
  },
  {
   "cell_type": "code",
   "execution_count": null,
   "metadata": {},
   "outputs": [],
   "source": [
    "summa_executable = 'summa.exe'\n",
    "file_manager = './settings/reynolds/summa_fileManager.txt'\n",
    "\n",
    "sim_default = ps.Simulation(summa_executable, file_manager)\n",
    "sim_metsim  = ps.Simulation(summa_executable, file_manager)\n",
    "\n",
    "sim_metsim.force_file_list.options[0].name = f\"{out_dirname}/{out_filename}\"\n",
    "\n",
    "sim_default.run('local', run_suffix='default')\n",
    "sim_metsim.run('local', run_suffix='metsim')"
   ]
  },
  {
   "cell_type": "markdown",
   "metadata": {},
   "source": [
    "From the plot below we can see that while the MetSim derived forcing \n",
    "is not as good as the observed forcings, they still produce SWE results \n",
    "that are reasonably close to the observed values. MetSim does have a number\n",
    "of tunable parameters such as the lapse rate or fraction of shortwave radiation\n",
    "to transmit on rainy days which can be used to adjust the forcings generated."
   ]
  },
  {
   "cell_type": "code",
   "execution_count": null,
   "metadata": {},
   "outputs": [],
   "source": [
    "obs = xr.open_dataset('./data/reynolds/ReynoldsCreek_valData.nc')\n",
    "obs.sel(time=slice('2005/07/01', '2006/09/30'))['SWE'].plot(label='Observed', color='black')\n",
    "sim_default.output['scalarSWE'].plot(label='Observed forcings')\n",
    "sim_metsim.output['scalarSWE'].plot(label='MetSim forcings')\n",
    "plt.legend()"
   ]
  },
  {
   "cell_type": "code",
   "execution_count": null,
   "metadata": {},
   "outputs": [],
   "source": []
  }
 ],
 "metadata": {
  "kernelspec": {
   "display_name": "Python 3",
   "language": "python",
   "name": "python3"
  },
  "language_info": {
   "codemirror_mode": {
    "name": "ipython",
    "version": 3
   },
   "file_extension": ".py",
   "mimetype": "text/x-python",
   "name": "python",
   "nbconvert_exporter": "python",
   "pygments_lexer": "ipython3",
   "version": "3.7.8"
  }
 },
 "nbformat": 4,
 "nbformat_minor": 4
}
