{
 "cells": [
  {
   "cell_type": "markdown",
   "metadata": {},
   "source": [
    "# Exercise 3: Perturbing temperature and precipitation\n",
    "\n",
    "In this excercise you will explore how different perturbations to temperature and precipitation propagate through both MetSim and SUMMA and how this changes the resulting hydrology.\n",
    "As before, we will import everything we need. You are also provided with an initial MetSim configuration which is the same as the one from the previous exercise.  We have also included the same helper functions from the previous exercise. Run these three cells to get started.\n"
   ]
  },
  {
   "cell_type": "code",
   "execution_count": null,
   "metadata": {},
   "outputs": [],
   "source": [
    "# modules \n",
    "import os\n",
    "import pysumma as ps\n",
    "import xarray as xr\n",
    "import pandas as pd\n",
    "import numpy as np\n",
    "import matplotlib.pyplot as plt\n",
    "from metsim import MetSim"
   ]
  },
  {
   "cell_type": "code",
   "execution_count": null,
   "metadata": {},
   "outputs": [],
   "source": [
    "def metsim_to_summa(ms, base_dataset='./data/reynolds/forcing_sheltered.nc'):\n",
    "    \"\"\"\n",
    "    Convert a metsim object's output to summa compatible input\n",
    "    This simply adds the `data_step` and `hruId` variables from\n",
    "    the given `base_dataset`. This appends to the metsim dataset.\n",
    "    \n",
    "    Parameters\n",
    "    ----------\n",
    "    ms: MetSim\n",
    "        A MetSim object which has had the `run` method called\n",
    "    base_dataset: str\n",
    "        The path to a dataset which is used to populate the\n",
    "        `data_step` and `hruId` variables\n",
    "        \n",
    "    Returns\n",
    "    -------\n",
    "    The update `xarray.Dataset` from the MetSim run\n",
    "    \"\"\"\n",
    "    base_dataset = xr.open_dataset(base_dataset)\n",
    "    with ms.open_output() as ds:\n",
    "        ds['data_step'] = base_dataset['data_step']\n",
    "        ds['hruId'] = base_dataset['hruId']\n",
    "        out_ds = ds.load()\n",
    "    out_prefix = ms.params[\"out_prefix\"]\n",
    "    out_suffix = ms.get_nc_output_suffix(out_ds[\"time\"].to_series())\n",
    "    out_filename = f'{out_prefix}_{out_suffix}.nc'\n",
    "    out_dirname = os.path.abspath(ms.params['out_dir'])\n",
    "    out_ds.to_netcdf(f'{out_dirname}/{out_filename}')\n",
    "    return out_ds\n",
    "\n",
    "    \n",
    "def create_file_manager(ms, fm, new_suffix):\n",
    "    \"\"\"\n",
    "    Creates a new file manager that points to a forcing\n",
    "    file from a metsim run.\n",
    "    \n",
    "    Parameters\n",
    "    ----------\n",
    "    ms: MetSim\n",
    "        A MetSim object which has had the `run` method called.\n",
    "    fm: FileManager\n",
    "        A FileManager to use as a template\n",
    "    new_suffix: str\n",
    "        The new suffix for the new file manager\n",
    "        \n",
    "    Returns\n",
    "    -------\n",
    "    The path to the new file manager\n",
    "    \"\"\"\n",
    "    out_prefix = ms.params[\"out_prefix\"]\n",
    "    with ms.open_output() as ds:\n",
    "        out_suffix = ms.get_nc_output_suffix(ds[\"time\"].to_series())\n",
    "    out_filename = f'{out_prefix}_{out_suffix}.nc'\n",
    "    out_dirname = os.path.abspath(ms.params['out_dir'])\n",
    "   \n",
    "    new_force_file_list = f'summa_zForcingFileList_{new_suffix}.txt'\n",
    "    new_file_manager = f'summa_fileManager_{new_suffix}.txt'\n",
    "    with open(f'{fm[\"settingsPath\"].value}/{new_force_file_list}', 'w') as f:\n",
    "        f.write(f\"'{out_filename}'\")\n",
    "    fm['forcingListFile'].value = new_force_file_list\n",
    "    fm.file_name = new_file_manager\n",
    "    fm.write()\n",
    "    return f'./{fm.original_path}/{fm.file_name}'"
   ]
  },
  {
   "cell_type": "code",
   "execution_count": null,
   "metadata": {},
   "outputs": [],
   "source": [
    "config = {\n",
    "    # Input files\n",
    "    \"domain\": './data/reynolds/forcing_daily.nc',\n",
    "    \"forcing\": './data/reynolds/forcing_daily.nc',\n",
    "    \"state\": './data/reynolds/forcing_daily.nc',\n",
    "    # Output location/naming\n",
    "    \"out_dir\": './data/reynolds/',\n",
    "    \"out_prefix\": 'forcing_metsim_uniform',\n",
    "    # Run configuration/parameters\n",
    "    \"start\": \"2005/06/01\",\n",
    "    \"stop\": \"2006/10/01\",\n",
    "    \"time_step\": 60,\n",
    "    \"period_ending\": True,\n",
    "    # Set up spatial chunking\n",
    "    \"chunks\": {'hru': 1},\n",
    "    # Set up input variable mapping\n",
    "    \"forcing_vars\": {\"Tmin\": \"t_min\", \"Tmax\": \"t_max\", \"prcp\": \"prec\", \"wind\": \"wind\",},\n",
    "    \"state_vars\": {\"Tmin\": \"t_min\", \"Tmax\": \"t_max\", \"prcp\": \"prec\", \"wind\": \"wind\",},\n",
    "    \"domain_vars\": {\"lon\": \"lon\", \"lat\": \"lat\", \"elev\": \"elev\", \"mask\": \"mask\",},\n",
    "    # Set up output specifications\n",
    "    \"out_vars\": {\n",
    "        'temp': {'out_name': 'airtemp', 'units': 'K'}, 'prec': {'out_name': 'pptrate', 'units': 'mm s-1'},\n",
    "        'air_pressure': {'out_name': 'airpres', 'units': 'Pa'}, 'shortwave': {'out_name': 'SWRadAtm'},\n",
    "        'longwave': {'out_name': 'LWRadAtm'}, 'spec_humid': {'out_name': 'spechum' }, 'wind': {'out_name': 'windspd' } },\n",
    "}"
   ]
  },
  {
   "cell_type": "markdown",
   "metadata": {},
   "source": [
    "# Defining a daily perturbation function\n",
    "\n",
    "Your first task is to define your own perturbation functions. We have provided you a scaffold below which you can use to modify `Tmin`, `Tmax` and, `prcp`. While you are free to choose any perturbations you like, they should be physically plausible. You may also write a more complex function if you desire. Justify the choices you make here."
   ]
  },
  {
   "cell_type": "code",
   "execution_count": null,
   "metadata": {},
   "outputs": [],
   "source": [
    "def perturb_daily_vals(ds, dT, dP, out_path):\n",
    "    \"\"\"\n",
    "    Modify the temperature and precipitation inputs\n",
    "    to MetSim. \n",
    "    \n",
    "    Parameters\n",
    "    ----------\n",
    "    ds: xr.Dataset\n",
    "        A forcing dataset for MetSim\n",
    "    dT: float\n",
    "        The numeric perturbation for temperature\n",
    "    dP: float\n",
    "        The numeric perturbation for precipitation\n",
    "    out_path: string\n",
    "        Where to write the new data out\n",
    "        \n",
    "    Returns\n",
    "    -------\n",
    "    The perturbed dataset (which is also written out to disk)\n",
    "    \"\"\"\n",
    "    # We don't want to overwrite the original\n",
    "    # data so that we can iterate over it for\n",
    "    # producing multiple perturbations\n",
    "    ds = ds.copy()\n",
    "    \n",
    "    # Todo: \n",
    "    # insert your own perturbations here\n",
    "    \n",
    "    # Don't forget to write out the data!\n",
    "    ds.to_netcdf(out_path)\n",
    "    return ds"
   ]
  },
  {
   "cell_type": "markdown",
   "metadata": {},
   "source": [
    "# Running MetSim and preparing to run SUMMA\n",
    "\n",
    "As in the last exercise, now we will run MetSim for a number of these perturbations and prepare those MetSim outputs to run SUMMA.\n",
    "We have provided some of the scaffolding here to do this, including a suggested set of perturbation values to be fed into your\n",
    "perturbation functions. Feel free to change or add to these as you see fit. We also have provided a short checklist for the inner loop\n",
    "to help you get started.\n",
    "\n",
    "As before, once you have run all of these though MetSim, make sure to plot the resulting temperature and precipitation timeseries.\n",
    "Comment on how your perturbations have affected these timeseries. You may optionally want to explore some of the other MetSim outputs as well."
   ]
  },
  {
   "cell_type": "code",
   "execution_count": null,
   "metadata": {},
   "outputs": [],
   "source": [
    "temp_perturbation = [-1.0, 0.0, 1.0]\n",
    "prec_perturbation = [-5.0, 0.0, 5.0]\n",
    "new_file_managers = []\n",
    "run_names = []\n",
    "metsim_outputs = []\n",
    "daily_ds = xr.open_dataset('./data/reynolds/forcing_daily.nc')\n",
    "for dT in temp_perturbation:\n",
    "    for dP in prec_perturbation:\n",
    "        print(f'Running dT={dT}, dP={dP} now!')\n",
    "        out_name = f'dT={dT}_dP={dP}'\n",
    "        run_names.append(out_name)\n",
    "        out_daily_path = f'./data/reynolds/forcing_daily_{out_name}.nc'\n",
    "        perturb_daily_vals(daily_ds, dT, dP, out_daily_path)\n",
    "        # Todo:\n",
    "        #  1. Update `out_prefix` in the metsim configuration with `out_name`\n",
    "        #  2. Update `forcing`, `state`, and `domain` entries in the config \n",
    "        #     using the `out_daily_path`\n",
    "        #  3. Instantiate and run metsim\n",
    "        #  4. Convert metsim output to summa input, and append to `metsim_outputs`\n",
    "        #  5. Create a new file manager for summa simulations, and append to `new_file_managers`"
   ]
  },
  {
   "cell_type": "markdown",
   "metadata": {},
   "source": [
    "# Running SUMMA\n",
    "\n",
    "Now that you've got perturbed datasets, run them through SUMMA similarly to how we did before. We have provided you an additional snippet which makes it easy to slice through either temperature or precipitation perturbations. To analyze how your perturbations have changed the simulations conduct a simple sensitivity analysis to see whether your temperature or precipitation perturbations have had a larger impact on the simulated SWE. Note whether any particular perturbation had a large effect on the SWE.\n",
    "\n",
    "In particular, which perturbations have the largest impact on the peak SWE? Which have the largest impact on the snow season duration (amount of time with snow on the ground)."
   ]
  },
  {
   "cell_type": "code",
   "execution_count": null,
   "metadata": {},
   "outputs": [],
   "source": [
    "assert len(new_file_managers) == 9, ('The previous step is still not complete! Please go back',\n",
    "                                     ' and fill lin the loop from the previous code block to continue')\n",
    "\n",
    "ens_config = {name: {'file_manager': nfm}\n",
    "              for name, nfm in zip(run_names, new_file_managers)}\n",
    "\n",
    "summa_executable = 'summa.exe'\n",
    "file_manager = './settings/reynolds/summa_fileManager.txt'\n",
    "pert_ens = ps.Ensemble(summa_executable, ens_config, num_workers=3)\n",
    "\n",
    "pert_ens.run('local')\n",
    "summary = pert_ens.summary()\n",
    "print(summary)"
   ]
  },
  {
   "cell_type": "code",
   "execution_count": null,
   "metadata": {},
   "outputs": [],
   "source": [
    "ds_list = [s.output.load().isel(hru=0, gru=0) for s in pert_ens.simulations.values()]\n",
    "pert_ds = xr.concat(ds_list, dim='run')\n",
    "new_dims = [(dT, dP) for dT in temp_perturbation for dP in prec_perturbation]\n",
    "pert_ds['run'] = pd.MultiIndex.from_tuples(new_dims, names=('dT', 'dP'))\n",
    "pert_ds = pert_ds.unstack()"
   ]
  },
  {
   "cell_type": "code",
   "execution_count": null,
   "metadata": {},
   "outputs": [],
   "source": [
    "# Todo:\n",
    "# 1. plot the SWE timeseries for each of the perturbations\n",
    "# 2. Compute and plot the peak swe and length of snow season for each of \n",
    "#    the perturbations\n",
    "# 3. Compute the sensitivity of snow season and peak swe as a function of \n",
    "#    the temperature perturbations\n",
    "# 4. Compute the sensitivity of snow season and peak swe as a function of \n",
    "#    the precipitation perturbations\n",
    "# 5. Comment on which perturbations had larger impacts on these quantities. \n",
    "#    Is this in line with your expectations? Do you expect this is true everywhere?"
   ]
  }
 ],
 "metadata": {
  "kernelspec": {
   "display_name": "Python 3",
   "language": "python",
   "name": "python3"
  },
  "language_info": {
   "codemirror_mode": {
    "name": "ipython",
    "version": 3
   },
   "file_extension": ".py",
   "mimetype": "text/x-python",
   "name": "python",
   "nbconvert_exporter": "python",
   "pygments_lexer": "ipython3",
   "version": "3.7.8"
  }
 },
 "nbformat": 4,
 "nbformat_minor": 4
}
